{
  "nbformat": 4,
  "nbformat_minor": 0,
  "metadata": {
    "colab": {
      "provenance": [],
      "authorship_tag": "ABX9TyORVeY3cUpl+TZNQg1JXsAR",
      "include_colab_link": true
    },
    "kernelspec": {
      "name": "python3",
      "display_name": "Python 3"
    },
    "language_info": {
      "name": "python"
    }
  },
  "cells": [
    {
      "cell_type": "markdown",
      "metadata": {
        "id": "view-in-github",
        "colab_type": "text"
      },
      "source": [
        "<a href=\"https://colab.research.google.com/github/VihaanS22/API-/blob/main/Survivors_of_The_West_2.ipynb\" target=\"_parent\"><img src=\"https://colab.research.google.com/assets/colab-badge.svg\" alt=\"Open In Colab\"/></a>"
      ]
    },
    {
      "cell_type": "markdown",
      "source": [
        "Hi there sarge. You must know that a second titanic is about to set sail this year. So our team has taken a few data points from the previous titanic survivors and I have made a Decision Tree here to check the survival of the people on board. Check the whole code and the data and approve the plan.\n",
        "\n",
        "Yours truly,\n",
        "\n",
        "Sergeant Major Bruce\n",
        "\n",
        "---\n",
        "\n",
        "\n"
      ],
      "metadata": {
        "id": "lMmbs0pWlleV"
      }
    },
    {
      "cell_type": "code",
      "execution_count": null,
      "metadata": {
        "id": "EmOzjHvJ52Gc"
      },
      "outputs": [],
      "source": [
        "from google.colab import files\n",
        "media = files.upload()"
      ]
    },
    {
      "cell_type": "markdown",
      "source": [
        "Importing the titanic survivors data. ⬆"
      ],
      "metadata": {
        "id": "y16-ojAWt9WZ"
      }
    },
    {
      "cell_type": "code",
      "source": [
        "import pandas as pd\n",
        "col_names = [\"Id\",\"Pclass\",\"Sex\",\"Age\",\"SibSp\",\"Parch\",\"Survived\"]\n",
        "df = pd.read_csv(\"titanic.csv\",names = col_names).iloc[1:]\n",
        "print(df.head())"
      ],
      "metadata": {
        "id": "7Mse6QHb58DQ"
      },
      "execution_count": null,
      "outputs": []
    },
    {
      "cell_type": "markdown",
      "source": [
        "Changing the col names and making a data frame to use. Importing pandas to make a df and printing out the first few lines of the data frame made ⬆"
      ],
      "metadata": {
        "id": "G7GeozP8uByD"
      }
    },
    {
      "cell_type": "code",
      "source": [
        "features = [\"Id\",\"Pclass\",\"Sex\",\"Age\",\"SibSp\",\"Parch\"]\n",
        "\n",
        "X = df[features]\n",
        "Y = df.Survived"
      ],
      "metadata": {
        "id": "WK4vyGqJ7GPq"
      },
      "execution_count": null,
      "outputs": []
    },
    {
      "cell_type": "markdown",
      "source": [
        "Making a features var and putting up the data we need. Then making X and Y vars to mention what is what. Here X is all the data and Y is the outcome i.e. if the passenger has survived or not. ⬆"
      ],
      "metadata": {
        "id": "xwEk1HoyuZ9h"
      }
    },
    {
      "cell_type": "code",
      "source": [
        "from sklearn.model_selection import train_test_split as tts\n",
        "from sklearn.tree import DecisionTreeClassifier\n",
        "from sklearn.metrics import accuracy_score\n",
        "\n",
        "x_train,x_test,y_train,y_test = tts(X,Y,test_size=0.25,random_state = 0)\n",
        "\n",
        "clf = DecisionTreeClassifier()\n",
        "\n",
        "clf = clf.fit(x_train,y_train)\n",
        "\n",
        "y_pred = clf.predict(x_test)\n",
        "\n",
        "print(\"Accuracy score is \",accuracy_score(y_test,y_pred))\n",
        "\n"
      ],
      "metadata": {
        "id": "ZvXvjJiA7u0s"
      },
      "execution_count": null,
      "outputs": []
    },
    {
      "cell_type": "markdown",
      "source": [
        " Importing useful needs from the sklearn lib. We have here train_test_split which allows us to split the data into training and testing.\n",
        " Then we have classifier which makes a model of a decision tree for us. And the final import of this block is the accuracy score which allows us to check the accuracy score of our made model.\n",
        "Next in the code we have made our vars of x and y which we shall test and train. Inside the X and Y vars we mentioned prev and then the test size that is 25% and random_state = 0 which allows the data to train. ⬆"
      ],
      "metadata": {
        "id": "hQlLvFWIuzfK"
      }
    },
    {
      "cell_type": "code",
      "source": [
        "from sklearn.tree import export_graphviz\n",
        "from io import StringIO\n",
        "import pydotplus\n",
        "\n",
        "dot_data = StringIO()\n",
        "export_graphviz(clf,out_file = dot_data,filled = True,special_characters = True,rounded = True,feature_names = features,class_names = ['0','1'])\n",
        "\n",
        "print(dot_data.getvalue())"
      ],
      "metadata": {
        "id": "RiXXIpyR9FZO"
      },
      "execution_count": null,
      "outputs": []
    },
    {
      "cell_type": "markdown",
      "source": [
        "Then again we import export_graphviz which makes the graph for us. Then StringIO that gets all values and the true false parts in the tree.\n",
        "Then we have pydotplus that takes the data from StringIO and makes the final output. ⬆"
      ],
      "metadata": {
        "id": "oo9CBxQOvsTM"
      }
    },
    {
      "cell_type": "code",
      "source": [
        "from IPython.display import Image\n",
        "\n",
        "graph = pydotplus.graph_from_dot_data(dot_data.getvalue())\n",
        "graph.write_png(\"survivors.png\")\n",
        "Image(graph.create_png())"
      ],
      "metadata": {
        "id": "KztCriEH-jTF"
      },
      "execution_count": null,
      "outputs": []
    },
    {
      "cell_type": "markdown",
      "source": [
        "Here we import Image from IPython.display to make the graph image. Next we use the pydotplus we imported in the prev block. We us the StringIO made in the graph image part. Next is the graph image making and then finally create the\n",
        "image and store it in our folder. ⬆\n",
        "\n",
        "---\n",
        "\n",
        "The above data was all for the whole data graph which possibly cannot be analyzed in a short period of time.\n",
        "So the below blocks are made for the new data with three levels or the graph."
      ],
      "metadata": {
        "id": "R3vD_8j8wRL9"
      }
    },
    {
      "cell_type": "code",
      "source": [
        "clf = DecisionTreeClassifier(max_depth = 3)\n",
        "clf = clf.fit(x_train, y_train)\n",
        "y_pred = clf.predict(x_test)\n",
        "\n",
        "print(\"Model accuracy is : \", accuracy_score(y_test, y_pred))"
      ],
      "metadata": {
        "id": "fnhkwYz3ACOk"
      },
      "execution_count": null,
      "outputs": []
    },
    {
      "cell_type": "markdown",
      "source": [
        "Coming up next, we make the classifier using the DTC and update it by putting the trained data into it. Then to check the accuracy of our model and graph, we make a new var y_pred and finally print the model accuracy.\n",
        "Remember this accuracy code is all for the new graph with three levels.⬆"
      ],
      "metadata": {
        "id": "s8fgPTUiwyHz"
      }
    },
    {
      "cell_type": "code",
      "source": [
        "dot_data = StringIO()\n",
        "export_graphviz(clf, out_file = dot_data, filled = True, rounded = True, special_characters = True, feature_names = features, class_names = ['0', '1'])\n",
        "\n",
        "graph = pydotplus.graph_from_dot_data(dot_data.getvalue())\n",
        "graph.write_png(\"Survivors.png\")\n",
        "Image(graph.create_png())"
      ],
      "metadata": {
        "id": "Wi_B8xuUBjwn"
      },
      "execution_count": null,
      "outputs": []
    },
    {
      "cell_type": "markdown",
      "source": [
        "Again we make the new image with three levels of the graph and finally end our big plan... ⬆\n",
        "\n",
        "---\n",
        "\n",
        "So how did you like the plan? Enter it in the input below."
      ],
      "metadata": {
        "id": "JyaJFAAjyWnz"
      }
    },
    {
      "cell_type": "code",
      "source": [
        "approval = input(\"Do you approve this plan sarge? + or - : \")\n",
        "\n",
        "if(approval == \"+\"):\n",
        "  print(\"Well then, let's get to work!\")\n",
        "\n",
        "elif(approval == \"-\"):\n",
        "  print(\"Any alternative plans? Double Click the text block below and type it in.\")\n"
      ],
      "metadata": {
        "colab": {
          "base_uri": "https://localhost:8080/"
        },
        "id": "n_wMd6wrt51B",
        "outputId": "de127a2d-71ca-4ac0-db64-b1ea5e35dba8"
      },
      "execution_count": null,
      "outputs": [
        {
          "output_type": "stream",
          "name": "stdout",
          "text": [
            "Do you approve this plan sarge? + or - : +\n",
            "Well then, let's get to work!\n"
          ]
        }
      ]
    },
    {
      "cell_type": "markdown",
      "source": [
        "Enter an alternative plan if any :-\n"
      ],
      "metadata": {
        "id": "_tAvDugBtVTh"
      }
    }
  ]
}